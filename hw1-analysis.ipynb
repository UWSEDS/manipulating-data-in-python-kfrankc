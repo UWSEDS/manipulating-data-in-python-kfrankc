{
 "cells": [
  {
   "cell_type": "code",
   "execution_count": 1,
   "metadata": {},
   "outputs": [],
   "source": [
    "import pandas as pd\n",
    "import numpy as np"
   ]
  },
  {
   "cell_type": "code",
   "execution_count": 3,
   "metadata": {},
   "outputs": [],
   "source": [
    "# read csv data into variable\n",
    "bicycle_data = pd.read_csv('data/Fremont_Bridge_Hourly_Bicycle_Counts_by_Month_October_2012_to_present.csv')"
   ]
  },
  {
   "cell_type": "code",
   "execution_count": 4,
   "metadata": {},
   "outputs": [
    {
     "data": {
      "text/html": [
       "<div>\n",
       "<style scoped>\n",
       "    .dataframe tbody tr th:only-of-type {\n",
       "        vertical-align: middle;\n",
       "    }\n",
       "\n",
       "    .dataframe tbody tr th {\n",
       "        vertical-align: top;\n",
       "    }\n",
       "\n",
       "    .dataframe thead th {\n",
       "        text-align: right;\n",
       "    }\n",
       "</style>\n",
       "<table border=\"1\" class=\"dataframe\">\n",
       "  <thead>\n",
       "    <tr style=\"text-align: right;\">\n",
       "      <th></th>\n",
       "      <th>Date</th>\n",
       "      <th>Fremont Bridge East Sidewalk</th>\n",
       "      <th>Fremont Bridge West Sidewalk</th>\n",
       "    </tr>\n",
       "  </thead>\n",
       "  <tbody>\n",
       "    <tr>\n",
       "      <th>0</th>\n",
       "      <td>03/31/2019 11:00:00 PM</td>\n",
       "      <td>6.0</td>\n",
       "      <td>10.0</td>\n",
       "    </tr>\n",
       "    <tr>\n",
       "      <th>1</th>\n",
       "      <td>03/31/2019 10:00:00 PM</td>\n",
       "      <td>7.0</td>\n",
       "      <td>14.0</td>\n",
       "    </tr>\n",
       "    <tr>\n",
       "      <th>2</th>\n",
       "      <td>03/31/2019 09:00:00 PM</td>\n",
       "      <td>18.0</td>\n",
       "      <td>15.0</td>\n",
       "    </tr>\n",
       "    <tr>\n",
       "      <th>3</th>\n",
       "      <td>03/31/2019 08:00:00 PM</td>\n",
       "      <td>26.0</td>\n",
       "      <td>31.0</td>\n",
       "    </tr>\n",
       "    <tr>\n",
       "      <th>4</th>\n",
       "      <td>03/31/2019 07:00:00 PM</td>\n",
       "      <td>30.0</td>\n",
       "      <td>58.0</td>\n",
       "    </tr>\n",
       "  </tbody>\n",
       "</table>\n",
       "</div>"
      ],
      "text/plain": [
       "                     Date  Fremont Bridge East Sidewalk  \\\n",
       "0  03/31/2019 11:00:00 PM                           6.0   \n",
       "1  03/31/2019 10:00:00 PM                           7.0   \n",
       "2  03/31/2019 09:00:00 PM                          18.0   \n",
       "3  03/31/2019 08:00:00 PM                          26.0   \n",
       "4  03/31/2019 07:00:00 PM                          30.0   \n",
       "\n",
       "   Fremont Bridge West Sidewalk  \n",
       "0                          10.0  \n",
       "1                          14.0  \n",
       "2                          15.0  \n",
       "3                          31.0  \n",
       "4                          58.0  "
      ]
     },
     "execution_count": 4,
     "metadata": {},
     "output_type": "execute_result"
    }
   ],
   "source": [
    "bicycle_data.head()"
   ]
  },
  {
   "cell_type": "code",
   "execution_count": 5,
   "metadata": {},
   "outputs": [],
   "source": [
    "# create column 'Total', which is (East + West) bicycle count\n",
    "bicycle_data['Total'] = bicycle_data['Fremont Bridge East Sidewalk'] + bicycle_data['Fremont Bridge West Sidewalk']"
   ]
  },
  {
   "cell_type": "code",
   "execution_count": 6,
   "metadata": {},
   "outputs": [
    {
     "data": {
      "text/html": [
       "<div>\n",
       "<style scoped>\n",
       "    .dataframe tbody tr th:only-of-type {\n",
       "        vertical-align: middle;\n",
       "    }\n",
       "\n",
       "    .dataframe tbody tr th {\n",
       "        vertical-align: top;\n",
       "    }\n",
       "\n",
       "    .dataframe thead th {\n",
       "        text-align: right;\n",
       "    }\n",
       "</style>\n",
       "<table border=\"1\" class=\"dataframe\">\n",
       "  <thead>\n",
       "    <tr style=\"text-align: right;\">\n",
       "      <th></th>\n",
       "      <th>Date</th>\n",
       "      <th>Fremont Bridge East Sidewalk</th>\n",
       "      <th>Fremont Bridge West Sidewalk</th>\n",
       "      <th>Total</th>\n",
       "    </tr>\n",
       "  </thead>\n",
       "  <tbody>\n",
       "    <tr>\n",
       "      <th>0</th>\n",
       "      <td>03/31/2019 11:00:00 PM</td>\n",
       "      <td>6.0</td>\n",
       "      <td>10.0</td>\n",
       "      <td>16.0</td>\n",
       "    </tr>\n",
       "    <tr>\n",
       "      <th>1</th>\n",
       "      <td>03/31/2019 10:00:00 PM</td>\n",
       "      <td>7.0</td>\n",
       "      <td>14.0</td>\n",
       "      <td>21.0</td>\n",
       "    </tr>\n",
       "    <tr>\n",
       "      <th>2</th>\n",
       "      <td>03/31/2019 09:00:00 PM</td>\n",
       "      <td>18.0</td>\n",
       "      <td>15.0</td>\n",
       "      <td>33.0</td>\n",
       "    </tr>\n",
       "    <tr>\n",
       "      <th>3</th>\n",
       "      <td>03/31/2019 08:00:00 PM</td>\n",
       "      <td>26.0</td>\n",
       "      <td>31.0</td>\n",
       "      <td>57.0</td>\n",
       "    </tr>\n",
       "    <tr>\n",
       "      <th>4</th>\n",
       "      <td>03/31/2019 07:00:00 PM</td>\n",
       "      <td>30.0</td>\n",
       "      <td>58.0</td>\n",
       "      <td>88.0</td>\n",
       "    </tr>\n",
       "  </tbody>\n",
       "</table>\n",
       "</div>"
      ],
      "text/plain": [
       "                     Date  Fremont Bridge East Sidewalk  \\\n",
       "0  03/31/2019 11:00:00 PM                           6.0   \n",
       "1  03/31/2019 10:00:00 PM                           7.0   \n",
       "2  03/31/2019 09:00:00 PM                          18.0   \n",
       "3  03/31/2019 08:00:00 PM                          26.0   \n",
       "4  03/31/2019 07:00:00 PM                          30.0   \n",
       "\n",
       "   Fremont Bridge West Sidewalk  Total  \n",
       "0                          10.0   16.0  \n",
       "1                          14.0   21.0  \n",
       "2                          15.0   33.0  \n",
       "3                          31.0   57.0  \n",
       "4                          58.0   88.0  "
      ]
     },
     "execution_count": 6,
     "metadata": {},
     "output_type": "execute_result"
    }
   ],
   "source": [
    "bicycle_data.head()"
   ]
  },
  {
   "cell_type": "code",
   "execution_count": 20,
   "metadata": {},
   "outputs": [
    {
     "data": {
      "text/plain": [
       "9"
      ]
     },
     "execution_count": 20,
     "metadata": {},
     "output_type": "execute_result"
    }
   ],
   "source": [
    "# function to return datetime object from string\n",
    "def datetime_parse(date_str):\n",
    "    # remove 'PM'\n",
    "    date_str = date_str[:-3]\n",
    "    # split date and time\n",
    "    date, time = date_str.split(\" \")\n",
    "    # return dictionary: (month, date, year, hour, minutes, seconds)\n",
    "    month, date, year = date.split(\"/\")\n",
    "    hour, minutes, seconds = time.split(\":\")\n",
    "    x = dict();\n",
    "    x['month'] = int(month)\n",
    "    x['date'] = int(date)\n",
    "    x['year'] = int(year)\n",
    "    x['hour'] = int(hour)\n",
    "    x['minutes'] = int(minutes)\n",
    "    x['seconds'] = int(seconds)\n",
    "    return x\n",
    "\n",
    "def hour_parse(date_str):\n",
    "    return datetime_parse(date_str)['hour']\n",
    "\n",
    "# test this out\n",
    "hour_parse('03/31/2019 09:00:00 PM')"
   ]
  },
  {
   "cell_type": "code",
   "execution_count": 21,
   "metadata": {},
   "outputs": [
    {
     "data": {
      "text/html": [
       "<div>\n",
       "<style scoped>\n",
       "    .dataframe tbody tr th:only-of-type {\n",
       "        vertical-align: middle;\n",
       "    }\n",
       "\n",
       "    .dataframe tbody tr th {\n",
       "        vertical-align: top;\n",
       "    }\n",
       "\n",
       "    .dataframe thead th {\n",
       "        text-align: right;\n",
       "    }\n",
       "</style>\n",
       "<table border=\"1\" class=\"dataframe\">\n",
       "  <thead>\n",
       "    <tr style=\"text-align: right;\">\n",
       "      <th></th>\n",
       "      <th>Date</th>\n",
       "      <th>Fremont Bridge East Sidewalk</th>\n",
       "      <th>Fremont Bridge West Sidewalk</th>\n",
       "      <th>Total</th>\n",
       "      <th>Hour of day</th>\n",
       "    </tr>\n",
       "  </thead>\n",
       "  <tbody>\n",
       "    <tr>\n",
       "      <th>0</th>\n",
       "      <td>03/31/2019 11:00:00 PM</td>\n",
       "      <td>6.0</td>\n",
       "      <td>10.0</td>\n",
       "      <td>16.0</td>\n",
       "      <td>11</td>\n",
       "    </tr>\n",
       "    <tr>\n",
       "      <th>1</th>\n",
       "      <td>03/31/2019 10:00:00 PM</td>\n",
       "      <td>7.0</td>\n",
       "      <td>14.0</td>\n",
       "      <td>21.0</td>\n",
       "      <td>10</td>\n",
       "    </tr>\n",
       "    <tr>\n",
       "      <th>2</th>\n",
       "      <td>03/31/2019 09:00:00 PM</td>\n",
       "      <td>18.0</td>\n",
       "      <td>15.0</td>\n",
       "      <td>33.0</td>\n",
       "      <td>9</td>\n",
       "    </tr>\n",
       "    <tr>\n",
       "      <th>3</th>\n",
       "      <td>03/31/2019 08:00:00 PM</td>\n",
       "      <td>26.0</td>\n",
       "      <td>31.0</td>\n",
       "      <td>57.0</td>\n",
       "      <td>8</td>\n",
       "    </tr>\n",
       "    <tr>\n",
       "      <th>4</th>\n",
       "      <td>03/31/2019 07:00:00 PM</td>\n",
       "      <td>30.0</td>\n",
       "      <td>58.0</td>\n",
       "      <td>88.0</td>\n",
       "      <td>7</td>\n",
       "    </tr>\n",
       "  </tbody>\n",
       "</table>\n",
       "</div>"
      ],
      "text/plain": [
       "                     Date  Fremont Bridge East Sidewalk  \\\n",
       "0  03/31/2019 11:00:00 PM                           6.0   \n",
       "1  03/31/2019 10:00:00 PM                           7.0   \n",
       "2  03/31/2019 09:00:00 PM                          18.0   \n",
       "3  03/31/2019 08:00:00 PM                          26.0   \n",
       "4  03/31/2019 07:00:00 PM                          30.0   \n",
       "\n",
       "   Fremont Bridge West Sidewalk  Total  Hour of day  \n",
       "0                          10.0   16.0           11  \n",
       "1                          14.0   21.0           10  \n",
       "2                          15.0   33.0            9  \n",
       "3                          31.0   57.0            8  \n",
       "4                          58.0   88.0            7  "
      ]
     },
     "execution_count": 21,
     "metadata": {},
     "output_type": "execute_result"
    }
   ],
   "source": [
    "# create column 'Hour of day', which is the hour extracted from 'Date'\n",
    "bicycle_data['Hour of day'] = bicycle_data['Date'].apply(hour_parse)\n",
    "bicycle_data.head()"
   ]
  },
  {
   "cell_type": "code",
   "execution_count": 22,
   "metadata": {},
   "outputs": [
    {
     "data": {
      "text/html": [
       "<div>\n",
       "<style scoped>\n",
       "    .dataframe tbody tr th:only-of-type {\n",
       "        vertical-align: middle;\n",
       "    }\n",
       "\n",
       "    .dataframe tbody tr th {\n",
       "        vertical-align: top;\n",
       "    }\n",
       "\n",
       "    .dataframe thead th {\n",
       "        text-align: right;\n",
       "    }\n",
       "</style>\n",
       "<table border=\"1\" class=\"dataframe\">\n",
       "  <thead>\n",
       "    <tr style=\"text-align: right;\">\n",
       "      <th></th>\n",
       "      <th>Date</th>\n",
       "      <th>Fremont Bridge East Sidewalk</th>\n",
       "      <th>Fremont Bridge West Sidewalk</th>\n",
       "      <th>Total</th>\n",
       "      <th>Hour of day</th>\n",
       "      <th>Year</th>\n",
       "    </tr>\n",
       "  </thead>\n",
       "  <tbody>\n",
       "    <tr>\n",
       "      <th>0</th>\n",
       "      <td>03/31/2019 11:00:00 PM</td>\n",
       "      <td>6.0</td>\n",
       "      <td>10.0</td>\n",
       "      <td>16.0</td>\n",
       "      <td>11</td>\n",
       "      <td>2019</td>\n",
       "    </tr>\n",
       "    <tr>\n",
       "      <th>1</th>\n",
       "      <td>03/31/2019 10:00:00 PM</td>\n",
       "      <td>7.0</td>\n",
       "      <td>14.0</td>\n",
       "      <td>21.0</td>\n",
       "      <td>10</td>\n",
       "      <td>2019</td>\n",
       "    </tr>\n",
       "    <tr>\n",
       "      <th>2</th>\n",
       "      <td>03/31/2019 09:00:00 PM</td>\n",
       "      <td>18.0</td>\n",
       "      <td>15.0</td>\n",
       "      <td>33.0</td>\n",
       "      <td>9</td>\n",
       "      <td>2019</td>\n",
       "    </tr>\n",
       "    <tr>\n",
       "      <th>3</th>\n",
       "      <td>03/31/2019 08:00:00 PM</td>\n",
       "      <td>26.0</td>\n",
       "      <td>31.0</td>\n",
       "      <td>57.0</td>\n",
       "      <td>8</td>\n",
       "      <td>2019</td>\n",
       "    </tr>\n",
       "    <tr>\n",
       "      <th>4</th>\n",
       "      <td>03/31/2019 07:00:00 PM</td>\n",
       "      <td>30.0</td>\n",
       "      <td>58.0</td>\n",
       "      <td>88.0</td>\n",
       "      <td>7</td>\n",
       "      <td>2019</td>\n",
       "    </tr>\n",
       "  </tbody>\n",
       "</table>\n",
       "</div>"
      ],
      "text/plain": [
       "                     Date  Fremont Bridge East Sidewalk  \\\n",
       "0  03/31/2019 11:00:00 PM                           6.0   \n",
       "1  03/31/2019 10:00:00 PM                           7.0   \n",
       "2  03/31/2019 09:00:00 PM                          18.0   \n",
       "3  03/31/2019 08:00:00 PM                          26.0   \n",
       "4  03/31/2019 07:00:00 PM                          30.0   \n",
       "\n",
       "   Fremont Bridge West Sidewalk  Total  Hour of day  Year  \n",
       "0                          10.0   16.0           11  2019  \n",
       "1                          14.0   21.0           10  2019  \n",
       "2                          15.0   33.0            9  2019  \n",
       "3                          31.0   57.0            8  2019  \n",
       "4                          58.0   88.0            7  2019  "
      ]
     },
     "execution_count": 22,
     "metadata": {},
     "output_type": "execute_result"
    }
   ],
   "source": [
    "def year_parse(date_str):\n",
    "    return datetime_parse(date_str)['year']\n",
    "\n",
    "# create column 'Year', which is the year extracted from 'Date'\n",
    "bicycle_data['Year'] = bicycle_data['Date'].apply(year_parse)\n",
    "bicycle_data.head()"
   ]
  },
  {
   "cell_type": "code",
   "execution_count": 23,
   "metadata": {},
   "outputs": [
    {
     "data": {
      "text/html": [
       "<div>\n",
       "<style scoped>\n",
       "    .dataframe tbody tr th:only-of-type {\n",
       "        vertical-align: middle;\n",
       "    }\n",
       "\n",
       "    .dataframe tbody tr th {\n",
       "        vertical-align: top;\n",
       "    }\n",
       "\n",
       "    .dataframe thead th {\n",
       "        text-align: right;\n",
       "    }\n",
       "</style>\n",
       "<table border=\"1\" class=\"dataframe\">\n",
       "  <thead>\n",
       "    <tr style=\"text-align: right;\">\n",
       "      <th></th>\n",
       "      <th>Date</th>\n",
       "      <th>Fremont Bridge East Sidewalk</th>\n",
       "      <th>Fremont Bridge West Sidewalk</th>\n",
       "      <th>Total</th>\n",
       "      <th>Hour of day</th>\n",
       "      <th>Year</th>\n",
       "    </tr>\n",
       "  </thead>\n",
       "  <tbody>\n",
       "    <tr>\n",
       "      <th>19680</th>\n",
       "      <td>12/31/2016 11:00:00 PM</td>\n",
       "      <td>4.0</td>\n",
       "      <td>4.0</td>\n",
       "      <td>8.0</td>\n",
       "      <td>11</td>\n",
       "      <td>2016</td>\n",
       "    </tr>\n",
       "    <tr>\n",
       "      <th>19681</th>\n",
       "      <td>12/31/2016 10:00:00 PM</td>\n",
       "      <td>7.0</td>\n",
       "      <td>8.0</td>\n",
       "      <td>15.0</td>\n",
       "      <td>10</td>\n",
       "      <td>2016</td>\n",
       "    </tr>\n",
       "    <tr>\n",
       "      <th>19682</th>\n",
       "      <td>12/31/2016 09:00:00 PM</td>\n",
       "      <td>4.0</td>\n",
       "      <td>6.0</td>\n",
       "      <td>10.0</td>\n",
       "      <td>9</td>\n",
       "      <td>2016</td>\n",
       "    </tr>\n",
       "    <tr>\n",
       "      <th>19683</th>\n",
       "      <td>12/31/2016 08:00:00 PM</td>\n",
       "      <td>3.0</td>\n",
       "      <td>6.0</td>\n",
       "      <td>9.0</td>\n",
       "      <td>8</td>\n",
       "      <td>2016</td>\n",
       "    </tr>\n",
       "    <tr>\n",
       "      <th>19684</th>\n",
       "      <td>12/31/2016 07:00:00 PM</td>\n",
       "      <td>6.0</td>\n",
       "      <td>4.0</td>\n",
       "      <td>10.0</td>\n",
       "      <td>7</td>\n",
       "      <td>2016</td>\n",
       "    </tr>\n",
       "  </tbody>\n",
       "</table>\n",
       "</div>"
      ],
      "text/plain": [
       "                         Date  Fremont Bridge East Sidewalk  \\\n",
       "19680  12/31/2016 11:00:00 PM                           4.0   \n",
       "19681  12/31/2016 10:00:00 PM                           7.0   \n",
       "19682  12/31/2016 09:00:00 PM                           4.0   \n",
       "19683  12/31/2016 08:00:00 PM                           3.0   \n",
       "19684  12/31/2016 07:00:00 PM                           6.0   \n",
       "\n",
       "       Fremont Bridge West Sidewalk  Total  Hour of day  Year  \n",
       "19680                           4.0    8.0           11  2016  \n",
       "19681                           8.0   15.0           10  2016  \n",
       "19682                           6.0   10.0            9  2016  \n",
       "19683                           6.0    9.0            8  2016  \n",
       "19684                           4.0   10.0            7  2016  "
      ]
     },
     "execution_count": 23,
     "metadata": {},
     "output_type": "execute_result"
    }
   ],
   "source": [
    "# Create a dataframe with the subset of data from the year 2016\n",
    "bicycle_data_2016 = bicycle_data.loc[bicycle_data['Year'] == 2016]\n",
    "bicycle_data_2016.head()"
   ]
  },
  {
   "cell_type": "code",
   "execution_count": 41,
   "metadata": {},
   "outputs": [
    {
     "data": {
      "text/plain": [
       "<matplotlib.collections.PathCollection at 0x11c66b0f0>"
      ]
     },
     "execution_count": 41,
     "metadata": {},
     "output_type": "execute_result"
    },
    {
     "data": {
      "image/png": "[encoded data removed]",
      "text/plain": [
       "<Figure size 432x288 with 1 Axes>"
      ]
     },
     "metadata": {},
     "output_type": "display_data"
    }
   ],
   "source": [
    "# Use pandas + matplotlib to plot the counts by hour. \n",
    "# (i.e. hour of the day on the x-axis, total daily counts on the y-axis)\n",
    "from matplotlib import pyplot as plt\n",
    "\n",
    "plt.scatter(bicycle_data_2016['Hour of day'], bicycle_data_2016['Total'])"
   ]
  },
  {
   "cell_type": "code",
   "execution_count": 56,
   "metadata": {},
   "outputs": [
    {
     "name": "stdout",
     "output_type": "stream",
     "text": [
      "Hour 1 average total count:  48.28825136612022\n",
      "Hour 2 average total count:  51.54035567715458\n",
      "Hour 3 average total count:  66.78005464480874\n",
      "Hour 4 average total count:  116.22677595628416\n",
      "Hour 5 average total count:  213.3879781420765\n",
      "Hour 6 average total count:  179.0136612021858\n",
      "Hour 7 average total count:  186.0\n",
      "Hour 8 average total count:  202.81967213114754\n",
      "Hour 9 average total count:  116.62158469945355\n",
      "Hour 10 average total count:  62.84289617486339\n",
      "Hour 11 average total count:  50.19125683060109\n",
      "Hour 12 average total count:  48.53005464480874\n"
     ]
    }
   ],
   "source": [
    "# Use pandas to determine what is (on average) the busiest hour of the day\n",
    "for i in range(1,13):\n",
    "    tmp = bicycle_data_2016.loc[bicycle_data_2016['Hour of day'] == i]\n",
    "    print('Hour', i, 'average total count: ', tmp['Total'].mean())"
   ]
  },
  {
   "cell_type": "markdown",
   "metadata": {},
   "source": [
    "We can see that 5 PM is the busiest hour, with an average total count of around 213."
   ]
  },
  {
   "cell_type": "code",
   "execution_count": null,
   "metadata": {},
   "outputs": [],
   "source": []
  }
 ],
 "metadata": {
  "kernelspec": {
   "display_name": "Python 3",
   "language": "python",
   "name": "python3"
  },
  "language_info": {
   "codemirror_mode": {
    "name": "ipython",
    "version": 3
   },
   "file_extension": ".py",
   "mimetype": "text/x-python",
   "name": "python",
   "nbconvert_exporter": "python",
   "pygments_lexer": "ipython3",
   "version": "3.6.1"
  }
 },
 "nbformat": 4,
 "nbformat_minor": 2
}
